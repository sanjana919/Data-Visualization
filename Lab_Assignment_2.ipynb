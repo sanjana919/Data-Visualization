{
  "nbformat": 4,
  "nbformat_minor": 0,
  "metadata": {
    "colab": {
      "provenance": [],
      "authorship_tag": "ABX9TyMKKzXSZaCzbkBx5bNa8XTu",
      "include_colab_link": true
    },
    "kernelspec": {
      "name": "python3",
      "display_name": "Python 3"
    },
    "language_info": {
      "name": "python"
    }
  },
  "cells": [
    {
      "cell_type": "markdown",
      "metadata": {
        "id": "view-in-github",
        "colab_type": "text"
      },
      "source": [
        "<a href=\"https://colab.research.google.com/github/sanjana919/ABC-Pharmaceuticals-Project/blob/main/Lab_Assignment_2.ipynb\" target=\"_parent\"><img src=\"https://colab.research.google.com/assets/colab-badge.svg\" alt=\"Open In Colab\"/></a>"
      ]
    },
    {
      "cell_type": "code",
      "execution_count": null,
      "metadata": {
        "id": "513bP_UNq3vS"
      },
      "outputs": [],
      "source": [
        "Question\n",
        "1. Find if the substring is present\n",
        "2. Check if the substring is same\n"
      ]
    },
    {
      "cell_type": "code",
      "source": [
        "word = 'its just for practise to find this word'\n",
        "\n",
        "find = 'find'\n",
        "\n",
        "if find in word:\n",
        "    print('Yes present')\n",
        "else:\n",
        "    print('Not present')"
      ],
      "metadata": {
        "colab": {
          "base_uri": "https://localhost:8080/"
        },
        "id": "T1gV4khDrgVZ",
        "outputId": "0f1107dd-8501-455a-b08e-214ffaa68c65"
      },
      "execution_count": 1,
      "outputs": [
        {
          "output_type": "stream",
          "name": "stdout",
          "text": [
            "Yes present\n"
          ]
        }
      ]
    },
    {
      "cell_type": "code",
      "source": [
        "#now the other way of accessing it\n",
        "word = 'its just for practise to find this word'\n",
        "\n",
        "find = 'find'\n",
        "\n",
        "# using split of function\n",
        "\n",
        "substring = word.split()\n",
        "\n",
        "if find in substring:\n",
        "    print('true')\n",
        "else:\n",
        "    print('False')"
      ],
      "metadata": {
        "colab": {
          "base_uri": "https://localhost:8080/"
        },
        "id": "1vwcjyDzrtvu",
        "outputId": "52c851d5-1552-482c-86a5-3b832369946e"
      },
      "execution_count": 2,
      "outputs": [
        {
          "output_type": "stream",
          "name": "stdout",
          "text": [
            "true\n"
          ]
        }
      ]
    },
    {
      "cell_type": "code",
      "source": [
        "# now list of lists\n",
        "\n",
        "Mylist1 = ['Noida', 'Jaipur', 'Kolkata', 'Rajasthan','Mumbai']\n",
        "Mylist2 = ['Vellore', 'Shimoga']\n",
        "\n",
        "print(Mylist1[2:3])\n",
        "print(Mylist1[1:3])"
      ],
      "metadata": {
        "colab": {
          "base_uri": "https://localhost:8080/"
        },
        "id": "njIkLYB7rzoC",
        "outputId": "46fbb9eb-7718-463d-8f09-a4119cd09357"
      },
      "execution_count": 7,
      "outputs": [
        {
          "output_type": "stream",
          "name": "stdout",
          "text": [
            "['Kolkata']\n",
            "['Jaipur', 'Kolkata']\n"
          ]
        }
      ]
    },
    {
      "cell_type": "code",
      "source": [
        "Mylist3 = Mylist1 + Mylist2\n",
        "print(Mylist3)\n",
        "Mylist4 = []\n",
        "for i in Mylist1:\n",
        "    Mylist2.append\n",
        "print(Mylist1)"
      ],
      "metadata": {
        "colab": {
          "base_uri": "https://localhost:8080/"
        },
        "id": "mCBgf0J8sRJY",
        "outputId": "808d8705-2911-4b2b-aa6b-32f34e928ae0"
      },
      "execution_count": 8,
      "outputs": [
        {
          "output_type": "stream",
          "name": "stdout",
          "text": [
            "['Noida', 'Jaipur', 'Kolkata', 'Rajasthan', 'Mumbai', 'Vellore', 'Shimoga']\n",
            "['Noida', 'Jaipur', 'Kolkata', 'Rajasthan', 'Mumbai']\n"
          ]
        }
      ]
    },
    {
      "cell_type": "code",
      "source": [
        "for x in range(0,5):\n",
        "    print('Done!')"
      ],
      "metadata": {
        "colab": {
          "base_uri": "https://localhost:8080/"
        },
        "id": "4j5nRQ6CsULU",
        "outputId": "2126fab7-e3d4-44e8-9c2f-d1d00d69369e"
      },
      "execution_count": 9,
      "outputs": [
        {
          "output_type": "stream",
          "name": "stdout",
          "text": [
            "Done!\n",
            "Done!\n",
            "Done!\n",
            "Done!\n",
            "Done!\n"
          ]
        }
      ]
    },
    {
      "cell_type": "code",
      "source": [
        "count= 2\n",
        "while count!=0:\n",
        "    print(Mylist2[1])\n",
        "    count= count -1"
      ],
      "metadata": {
        "colab": {
          "base_uri": "https://localhost:8080/"
        },
        "id": "yMWMZCXhsY3M",
        "outputId": "5fb4af89-efc6-4f4b-8fc8-e8be7d180922"
      },
      "execution_count": 10,
      "outputs": [
        {
          "output_type": "stream",
          "name": "stdout",
          "text": [
            "Shimoga\n",
            "Shimoga\n"
          ]
        }
      ]
    },
    {
      "cell_type": "code",
      "source": [
        "def savings(PocketMoney, Freelance, Internship):\n",
        "    total = PocketMoney + Freelance + Internship\n",
        "    return total\n",
        ""
      ],
      "metadata": {
        "id": "mMtkNfJ7siPs"
      },
      "execution_count": 11,
      "outputs": []
    },
    {
      "cell_type": "code",
      "source": [
        "savings(4000, 10000,30000)"
      ],
      "metadata": {
        "colab": {
          "base_uri": "https://localhost:8080/"
        },
        "id": "CTzHJQcVslvX",
        "outputId": "b4f6e967-6d3f-4d15-f67f-b58f4e4b671e"
      },
      "execution_count": 12,
      "outputs": [
        {
          "output_type": "execute_result",
          "data": {
            "text/plain": [
              "44000"
            ]
          },
          "metadata": {},
          "execution_count": 12
        }
      ]
    },
    {
      "cell_type": "code",
      "source": [
        "import matplotlib.pyplot as plt"
      ],
      "metadata": {
        "id": "XWvQ5XGxsroR"
      },
      "execution_count": 13,
      "outputs": []
    },
    {
      "cell_type": "code",
      "source": [
        "dev_ages = [21,22,23,20,34]\n",
        "dev_sal =[500000,6000000,700000,8000000,900000]\n",
        "dev_sal1 =[800000,2000000,800000,6000000,700000]\n",
        "\n",
        "plt.title('Avg salary in $')\n",
        "plt.xlabel('Age')\n",
        "plt.ylabel('Salary')\n",
        "\n",
        "plt.plot(dev_ages, dev_sal, color ='r', linestyle = '--', label = 'dev_sal and age')\n",
        "plt.plot(dev_ages, dev_sal1, color ='g', label = 'Age and Salary', linestyle = '-')\n",
        "plt.legend()"
      ],
      "metadata": {
        "colab": {
          "base_uri": "https://localhost:8080/",
          "height": 489
        },
        "id": "SoelBcWgsuT9",
        "outputId": "80d26bfc-4b1e-4d2b-a34e-5e802e1b961a"
      },
      "execution_count": 14,
      "outputs": [
        {
          "output_type": "execute_result",
          "data": {
            "text/plain": [
              "<matplotlib.legend.Legend at 0x79d8341eb790>"
            ]
          },
          "metadata": {},
          "execution_count": 14
        },
        {
          "output_type": "display_data",
          "data": {
            "text/plain": [
              "<Figure size 640x480 with 1 Axes>"
            ],
            "image/png": "[encoded data removed]"
          },
          "metadata": {}
        }
      ]
    }
  ]
}